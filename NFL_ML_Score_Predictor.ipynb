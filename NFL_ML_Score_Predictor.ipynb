{
  "nbformat": 4,
  "nbformat_minor": 0,
  "metadata": {
    "colab": {
      "name": "NFL_ML_Score_Predictor.ipynb",
      "provenance": [],
      "authorship_tag": "ABX9TyNStFvAEaMc5fbcLGeVkDqN",
      "include_colab_link": true
    },
    "kernelspec": {
      "name": "python3",
      "display_name": "Python 3"
    }
  },
  "cells": [
    {
      "cell_type": "markdown",
      "metadata": {
        "id": "view-in-github",
        "colab_type": "text"
      },
      "source": [
        "<a href=\"https://colab.research.google.com/github/Amitparikh1/NFL-ML-Predictor/blob/master/NFL_ML_Score_Predictor.ipynb\" target=\"_parent\"><img src=\"https://colab.research.google.com/assets/colab-badge.svg\" alt=\"Open In Colab\"/></a>"
      ]
    },
    {
      "cell_type": "code",
      "metadata": {
        "id": "AlcFkBb-ZGjg",
        "outputId": "f6394280-a2fd-4758-ab96-317700a53975",
        "colab": {
          "base_uri": "https://localhost:8080/",
          "height": 425
        }
      },
      "source": [
        "!pip install sportsreference\n",
        "!pip install scikit-learn"
      ],
      "execution_count": null,
      "outputs": [
        {
          "output_type": "stream",
          "text": [
            "Collecting sportsreference\n",
            "\u001b[?25l  Downloading https://files.pythonhosted.org/packages/43/f8/58106455dcc98ef602a959881c42a4814bab1bd1211d7d5e341d9b44b914/sportsreference-0.5.2-py3-none-any.whl (472kB)\n",
            "\u001b[K     |████████████████████████████████| 481kB 2.7MB/s \n",
            "\u001b[?25hCollecting pyquery>=1.4.0\n",
            "  Downloading https://files.pythonhosted.org/packages/78/43/95d42e386c61cb639d1a0b94f0c0b9f0b7d6b981ad3c043a836c8b5bc68b/pyquery-1.4.1-py2.py3-none-any.whl\n",
            "Requirement already satisfied: pandas>=0.24.1 in /usr/local/lib/python3.6/dist-packages (from sportsreference) (1.1.2)\n",
            "Requirement already satisfied: requests>=2.18.4 in /usr/local/lib/python3.6/dist-packages (from sportsreference) (2.23.0)\n",
            "Requirement already satisfied: lxml>=2.1 in /usr/local/lib/python3.6/dist-packages (from pyquery>=1.4.0->sportsreference) (4.2.6)\n",
            "Collecting cssselect>0.7.9\n",
            "  Downloading https://files.pythonhosted.org/packages/3b/d4/3b5c17f00cce85b9a1e6f91096e1cc8e8ede2e1be8e96b87ce1ed09e92c5/cssselect-1.1.0-py2.py3-none-any.whl\n",
            "Requirement already satisfied: python-dateutil>=2.7.3 in /usr/local/lib/python3.6/dist-packages (from pandas>=0.24.1->sportsreference) (2.8.1)\n",
            "Requirement already satisfied: numpy>=1.15.4 in /usr/local/lib/python3.6/dist-packages (from pandas>=0.24.1->sportsreference) (1.18.5)\n",
            "Requirement already satisfied: pytz>=2017.2 in /usr/local/lib/python3.6/dist-packages (from pandas>=0.24.1->sportsreference) (2018.9)\n",
            "Requirement already satisfied: urllib3!=1.25.0,!=1.25.1,<1.26,>=1.21.1 in /usr/local/lib/python3.6/dist-packages (from requests>=2.18.4->sportsreference) (1.24.3)\n",
            "Requirement already satisfied: idna<3,>=2.5 in /usr/local/lib/python3.6/dist-packages (from requests>=2.18.4->sportsreference) (2.10)\n",
            "Requirement already satisfied: chardet<4,>=3.0.2 in /usr/local/lib/python3.6/dist-packages (from requests>=2.18.4->sportsreference) (3.0.4)\n",
            "Requirement already satisfied: certifi>=2017.4.17 in /usr/local/lib/python3.6/dist-packages (from requests>=2.18.4->sportsreference) (2020.6.20)\n",
            "Requirement already satisfied: six>=1.5 in /usr/local/lib/python3.6/dist-packages (from python-dateutil>=2.7.3->pandas>=0.24.1->sportsreference) (1.15.0)\n",
            "Installing collected packages: cssselect, pyquery, sportsreference\n",
            "Successfully installed cssselect-1.1.0 pyquery-1.4.1 sportsreference-0.5.2\n",
            "Requirement already satisfied: scikit-learn in /usr/local/lib/python3.6/dist-packages (0.22.2.post1)\n",
            "Requirement already satisfied: numpy>=1.11.0 in /usr/local/lib/python3.6/dist-packages (from scikit-learn) (1.18.5)\n",
            "Requirement already satisfied: scipy>=0.17.0 in /usr/local/lib/python3.6/dist-packages (from scikit-learn) (1.4.1)\n",
            "Requirement already satisfied: joblib>=0.11 in /usr/local/lib/python3.6/dist-packages (from scikit-learn) (0.16.0)\n"
          ],
          "name": "stdout"
        }
      ]
    },
    {
      "cell_type": "markdown",
      "metadata": {
        "id": "gc8UH5kOY5RA"
      },
      "source": [
        "Imports"
      ]
    },
    {
      "cell_type": "code",
      "metadata": {
        "id": "04SjuINpY1lM"
      },
      "source": [
        "import pandas as pd \n",
        "import numpy as np\n",
        "import matplotlib.pyplot as plt\n",
        "import sportsreference.nfl\n",
        "from sportsreference.nfl.teams import Teams\n",
        "from sportsreference.nfl.schedule import Schedule\n",
        "from sportsreference.nfl.boxscore import Boxscore\n",
        "from sklearn.linear_model import LinearRegression,Ridge"
      ],
      "execution_count": null,
      "outputs": []
    },
    {
      "cell_type": "markdown",
      "metadata": {
        "id": "dtMqcLP1ZRfN"
      },
      "source": [
        "Get Data"
      ]
    },
    {
      "cell_type": "code",
      "metadata": {
        "id": "nD_sI1dsZPkY",
        "outputId": "7493462a-1442-4f11-96e1-52a0399f41fd",
        "colab": {
          "base_uri": "https://localhost:8080/",
          "height": 1000
        }
      },
      "source": [
        "## Initialize Data Frame\n",
        "columns = [\"Team\",\"Week\",\"AvgPointsScored\",\"AvgPassYards\",\"AvgRushYards\",\"AvgInterceptions\",\"AvgTimesSacked\",\"OppPointsAllowed\",\"OppPassYards\",\"OppRushYards\",\"OppInterceptions\",\"OppSacks\",\"Points\"]\n",
        "\n",
        "df = pd.DataFrame(columns=columns)\n",
        "\n",
        "teams = Teams()\n",
        "counter = 0\n",
        "predictionWeek = 5 ##THIS VARIABLE IS THE WEEK TO PREDICT FOR\n",
        "## Loop through each team\n",
        "for team in teams:\n",
        "  schedule = Schedule(team.abbreviation)\n",
        "  ## Variables to store total data about the offense\n",
        "  totPointsScored = 0\n",
        "  totPassYards = 0\n",
        "  totRushYards = 0\n",
        "  totInterceptions = 0\n",
        "  totTimesSacked = 0\n",
        "  team = team.abbreviation\n",
        "  ## Loop through each week \n",
        "  for game in schedule:\n",
        "    if (game.week<=predictionWeek):\n",
        "      opposing_schedule = Schedule(game.opponent_abbr)\n",
        "      # Keep track of the opposing teams totals\n",
        "      opp_points_allowed = 0\n",
        "      opp_pass_yards = 0\n",
        "      opp_rush_yards = 0\n",
        "      opp_interceptions = 0\n",
        "      opp_sacks = 0\n",
        "      for opp_game in opposing_schedule:\n",
        "        opp_boxscore = Boxscore(opp_game.boxscore_index)\n",
        "        if (opp_game.week < game.week):\n",
        "          if (game.opponent_abbr == opp_boxscore.winning_abbr):\n",
        "            if (opp_boxscore.winner == \"Home\"):\n",
        "              opp_points_allowed += opp_boxscore.away_points\n",
        "              opp_pass_yards += opp_boxscore.away_net_pass_yards\n",
        "              opp_rush_yards += opp_boxscore.away_rush_yards\n",
        "              opp_interceptions += opp_boxscore.away_interceptions\n",
        "              opp_sacks += opp_boxscore.away_times_sacked\n",
        "            else:\n",
        "              opp_points_allowed += opp_boxscore.home_points\n",
        "              opp_pass_yards += opp_boxscore.home_net_pass_yards\n",
        "              opp_rush_yards += opp_boxscore.home_rush_yards\n",
        "              opp_interceptions += opp_boxscore.home_interceptions\n",
        "              opp_sacks += opp_boxscore.home_times_sacked\n",
        "          else:\n",
        "            if (opp_boxscore.winner == \"Home\"):\n",
        "              opp_points_allowed += opp_boxscore.home_points\n",
        "              opp_pass_yards += opp_boxscore.home_net_pass_yards\n",
        "              opp_rush_yards += opp_boxscore.home_rush_yards\n",
        "              opp_interceptions += opp_boxscore.home_interceptions\n",
        "              opp_sacks += opp_boxscore.home_times_sacked\n",
        "            else:\n",
        "              opp_points_allowed += opp_boxscore.away_points\n",
        "              opp_pass_yards += opp_boxscore.away_net_pass_yards\n",
        "              opp_rush_yards += opp_boxscore.away_rush_yards\n",
        "              opp_interceptions += opp_boxscore.away_interceptions\n",
        "              opp_sacks += opp_boxscore.away_times_sacked\n",
        "          \n",
        "      \n",
        "      if (game.week == 1):\n",
        "        totPointsScored += game.points_scored\n",
        "        totPassYards += game.pass_yards\n",
        "        totRushYards += game.rush_yards\n",
        "        totInterceptions += game.interceptions\n",
        "        totTimesSacked += game.times_sacked\n",
        "        \n",
        "      else:\n",
        "        weekToDivide = game.week - 1\n",
        "        \n",
        "        if (game.week is not predictionWeek):\n",
        "          df.loc[counter]={\"Team\":team,\"Week\":game.week,\"AvgPointsScored\":totPointsScored/weekToDivide,\"AvgPassYards\":totPassYards/weekToDivide,\"AvgRushYards\":totRushYards/weekToDivide,\"AvgInterceptions\":totInterceptions/weekToDivide,\"AvgTimesSacked\":totTimesSacked/weekToDivide,\"OppPointsAllowed\":(opp_points_allowed/weekToDivide),\"OppPassYards\":(opp_pass_yards/weekToDivide),\"OppRushYards\":(opp_rush_yards/weekToDivide),\"OppInterceptions\":(opp_interceptions/weekToDivide),\"OppSacks\":(opp_sacks/weekToDivide),\"Points\":game.points_scored}\n",
        "          totPointsScored += game.points_scored\n",
        "          totPassYards += game.pass_yards\n",
        "          totRushYards += game.rush_yards\n",
        "          totInterceptions += game.interceptions\n",
        "          totTimesSacked += game.times_sacked\n",
        "        else: ##Put \"-1\" in points column if the game hasn't been played yet\n",
        "          df.loc[counter]={\"Team\":team,\"Week\":game.week,\"AvgPointsScored\":totPointsScored/weekToDivide,\"AvgPassYards\":totPassYards/weekToDivide,\"AvgRushYards\":totRushYards/weekToDivide,\"AvgInterceptions\":totInterceptions/weekToDivide,\"AvgTimesSacked\":totTimesSacked/weekToDivide,\"OppPointsAllowed\":(opp_points_allowed/weekToDivide),\"OppPassYards\":(opp_pass_yards/weekToDivide),\"OppRushYards\":(opp_rush_yards/weekToDivide),\"OppInterceptions\":(opp_interceptions/weekToDivide),\"OppSacks\":(opp_sacks/weekToDivide),\"Points\":-1}\n",
        "        print(counter+1)\n",
        "        counter +=1\n",
        "## Save to dataframe \n",
        "df.to_csv(\"nfl_data.csv\")  "
      ],
      "execution_count": null,
      "outputs": [
        {
          "output_type": "stream",
          "text": [
            "1\n",
            "2\n",
            "3\n",
            "4\n",
            "5\n",
            "6\n",
            "7\n",
            "8\n",
            "9\n",
            "10\n",
            "11\n",
            "12\n",
            "13\n",
            "14\n",
            "15\n",
            "16\n",
            "17\n",
            "18\n",
            "19\n",
            "20\n",
            "21\n",
            "22\n",
            "23\n",
            "24\n",
            "25\n",
            "26\n",
            "27\n",
            "28\n",
            "29\n",
            "30\n",
            "31\n",
            "32\n",
            "33\n",
            "34\n",
            "35\n",
            "36\n",
            "37\n",
            "38\n",
            "39\n",
            "40\n",
            "41\n",
            "42\n",
            "43\n",
            "44\n",
            "45\n",
            "46\n",
            "47\n",
            "48\n",
            "49\n",
            "50\n",
            "51\n",
            "52\n",
            "53\n",
            "54\n",
            "55\n",
            "56\n",
            "57\n",
            "58\n",
            "59\n",
            "60\n",
            "61\n",
            "62\n",
            "63\n",
            "64\n",
            "65\n",
            "66\n",
            "67\n",
            "68\n",
            "69\n",
            "70\n",
            "71\n",
            "72\n",
            "73\n",
            "74\n",
            "75\n",
            "76\n",
            "77\n",
            "78\n",
            "79\n",
            "80\n",
            "81\n",
            "82\n",
            "83\n",
            "84\n",
            "85\n",
            "86\n",
            "87\n",
            "88\n",
            "89\n",
            "90\n",
            "91\n",
            "92\n",
            "93\n",
            "94\n",
            "95\n",
            "96\n",
            "97\n",
            "98\n",
            "99\n",
            "100\n",
            "101\n",
            "102\n",
            "103\n",
            "104\n",
            "105\n",
            "106\n",
            "107\n",
            "108\n",
            "109\n",
            "110\n",
            "111\n",
            "112\n",
            "113\n",
            "114\n",
            "115\n",
            "116\n",
            "117\n",
            "118\n",
            "119\n",
            "120\n",
            "121\n",
            "122\n",
            "123\n",
            "124\n"
          ],
          "name": "stdout"
        }
      ]
    },
    {
      "cell_type": "markdown",
      "metadata": {
        "id": "9tJJnkTO0Zn_"
      },
      "source": [
        "Split data up into x,y, train and test"
      ]
    },
    {
      "cell_type": "code",
      "metadata": {
        "id": "7cfCHhP-huJJ"
      },
      "source": [
        "def splitData(data,week):\n",
        "  train = data.loc[data['Week']<week]\n",
        "  test = data.loc[data['Week']==week]\n",
        "  x_train = train.iloc[:,2:12]\n",
        "  y_train = train.iloc[:,12]\n",
        "  x_test = test.iloc[:,2:12]\n",
        "  y_test = test.iloc[:,12]\n",
        "  return x_train,y_train,x_test,y_test\n"
      ],
      "execution_count": null,
      "outputs": []
    },
    {
      "cell_type": "markdown",
      "metadata": {
        "id": "i95MiIO_0SSB"
      },
      "source": [
        "Regression Models"
      ]
    },
    {
      "cell_type": "code",
      "metadata": {
        "id": "b-KunAMJ0R6a"
      },
      "source": [
        "def linear_regression(x_train,y_train,x_test,y_test):\n",
        "  linear_regressor = LinearRegression()\n",
        "  linear_regressor.fit(x_train,y_train)\n",
        "  score_predictions = linear_regressor.predict(x_test)\n",
        "  print(\"Linear:\")\n",
        "  print(linear_regressor.score(x_test,y_test))\n",
        "  return score_predictions\n",
        "\n",
        "## Ridge regression is used when variables may have multicollinearity which should be the case for variables such as passing yards and points scored etc.  \n",
        "def ridge_regression(x_train,y_train,x_test,y_test):\n",
        "  ridge_regressor = Ridge(alpha=100)\n",
        "  ridge_regressor.fit(x_train,y_train)\n",
        "  score_predictions = ridge_regressor.predict(x_test)\n",
        "  print(\"Ridge:\")\n",
        "  print(ridge_regressor.score(x_test,y_test))\n",
        "  return score_predictions\n"
      ],
      "execution_count": null,
      "outputs": []
    },
    {
      "cell_type": "markdown",
      "metadata": {
        "id": "h1AIAw78QVPZ"
      },
      "source": [
        "Compare Predictions to Actual Results"
      ]
    },
    {
      "cell_type": "code",
      "metadata": {
        "id": "ib5252x1P9zd"
      },
      "source": [
        "def deviation(score_predictions,y_test):\n",
        "  ## Standard Deviation\n",
        "  count = 0\n",
        "  std_sum = 0\n",
        "  for i in range(len(score_predictions)):\n",
        "    std_sum += abs(score_predictions[i]-y_test.iloc[i])\n",
        "    count+=1\n",
        "  return (std_sum/count)\n",
        "  #print(\"Standard deviation of predicted scores from actual scores for week \"+str(week) +\" is \"+str((std_sum/count)))"
      ],
      "execution_count": null,
      "outputs": []
    },
    {
      "cell_type": "markdown",
      "metadata": {
        "id": "7Nkl06mZU0OQ"
      },
      "source": [
        "Run Code"
      ]
    },
    {
      "cell_type": "code",
      "metadata": {
        "id": "uUV_sDwNPy32",
        "outputId": "becb5d2e-80b1-4c62-d8cb-d171a7b8e878",
        "colab": {
          "base_uri": "https://localhost:8080/",
          "height": 187
        }
      },
      "source": [
        "season_data = pd.read_csv(\"nfl_data.csv\",index_col=None)\n",
        "season_data = season_data.iloc[:,1:14]\n",
        "linear_std_deviations = []\n",
        "ridge_std_deviations = []\n",
        "count = 0\n",
        "for i in range(3,5):\n",
        "  xTr,yTr,xTe,yTe = splitData(season_data,i)\n",
        "  linear_predictions = linear_regression(xTr,yTr,xTe,yTe)\n",
        "  ridge_predictions = ridge_regression(xTr,yTr,xTe,yTe)\n",
        "  linear_std_deviations.append(deviation(linear_predictions,yTe))\n",
        "  ridge_std_deviations.append(deviation(ridge_predictions,yTe))\n",
        "\n",
        "print(linear_std_deviations)\n",
        "print(ridge_std_deviations)"
      ],
      "execution_count": null,
      "outputs": [
        {
          "output_type": "stream",
          "text": [
            "Linear:\n",
            "0.06691744943632627\n",
            "Ridge:\n",
            "0.2117155567565412\n",
            "Linear:\n",
            "-0.17912392797172227\n",
            "Ridge:\n",
            "-0.1344840916741119\n",
            "[6.6451691241800015, 8.154612978450144]\n",
            "[6.1552452743218, 7.882148794613344]\n"
          ],
          "name": "stdout"
        }
      ]
    },
    {
      "cell_type": "markdown",
      "metadata": {
        "id": "8NhuLmFcU3h2"
      },
      "source": [
        "Plots"
      ]
    },
    {
      "cell_type": "code",
      "metadata": {
        "id": "tf8z-WKoU5U9",
        "outputId": "9797036b-b95f-4ee6-84e9-a918b63a08bc",
        "colab": {
          "base_uri": "https://localhost:8080/",
          "height": 295
        }
      },
      "source": [
        "## Line Graph of Standard Deviations\n",
        "plt.plot(range(3,5),linear_std_deviations)\n",
        "plt.xlabel(\"Week\")\n",
        "plt.ylabel(\"Standard Deviation of Predictions\")\n",
        "plt.title(\"My Model's Deviation over the Season\")\n",
        "plt.show()"
      ],
      "execution_count": null,
      "outputs": [
        {
          "output_type": "display_data",
          "data": {
            "image/png": "[encoded data removed]",
            "text/plain": [
              "<Figure size 432x288 with 1 Axes>"
            ]
          },
          "metadata": {
            "tags": [],
            "needs_background": "light"
          }
        }
      ]
    },
    {
      "cell_type": "code",
      "metadata": {
        "id": "oSSQwZ1m56Re",
        "outputId": "1549b34b-399a-4d0e-ca08-dc5d05f25d18",
        "colab": {
          "base_uri": "https://localhost:8080/",
          "height": 1000
        }
      },
      "source": [
        "##Side by side histogram of predictions and actual scores\n",
        "hist_df = season_data[['Team','Week','Points']]\n",
        "hist_df = hist_df.rename(columns={\"Points\":\"Actual\"})\n",
        "for i in range(3,5):\n",
        "  week_df = hist_df.loc[hist_df['Week']==i]\n",
        "  xTr,yTr,xTe,yTe = splitData(season_data,i)\n",
        "  predictions = ridge_regression(xTr,yTr,xTe,yTe)\n",
        "  week_df.insert(3,\"Predicted\",predictions,True)\n",
        "  this_week = week_df.loc[week_df['Week']==i]\n",
        "  this_week.plot.bar(x='Team',y=['Actual','Predicted'])\n",
        "  plt.ylabel(\"Points\")\n",
        "  plt.title(\"Week \"+str(i))\n",
        "  fig = plt.gcf()\n",
        "  fig.set_size_inches(11,8)\n",
        "  \n"
      ],
      "execution_count": null,
      "outputs": [
        {
          "output_type": "stream",
          "text": [
            "Ridge:\n",
            "0.2117155567565412\n",
            "Ridge:\n",
            "-0.1344840916741119\n"
          ],
          "name": "stdout"
        },
        {
          "output_type": "display_data",
          "data": {
            "image/png": "[encoded data removed]",
            "text/plain": [
              "<Figure size 792x576 with 1 Axes>"
            ]
          },
          "metadata": {
            "tags": [],
            "needs_background": "light"
          }
        },
        {
          "output_type": "display_data",
          "data": {
            "image/png": "[encoded data removed]",
            "text/plain": [
              "<Figure size 792x576 with 1 Axes>"
            ]
          },
          "metadata": {
            "tags": [],
            "needs_background": "light"
          }
        }
      ]
    }
  ]
}