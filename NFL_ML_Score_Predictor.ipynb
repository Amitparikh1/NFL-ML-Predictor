{
  "nbformat": 4,
  "nbformat_minor": 0,
  "metadata": {
    "colab": {
      "name": "NFL_ML_Score_Predictor.ipynb",
      "provenance": [],
      "authorship_tag": "ABX9TyNFdfHICoDDzarQ4lPyJAC9"
    },
    "kernelspec": {
      "name": "python3",
      "display_name": "Python 3"
    }
  },
  "cells": [
    {
      "cell_type": "code",
      "metadata": {
        "id": "AlcFkBb-ZGjg",
        "colab_type": "code",
        "colab": {
          "base_uri": "https://localhost:8080/",
          "height": 357
        },
        "outputId": "54c8a612-53fe-4b55-bd04-176185780e89"
      },
      "source": [
        "!pip install sportsreference"
      ],
      "execution_count": null,
      "outputs": [
        {
          "output_type": "stream",
          "text": [
            "Collecting sportsreference\n",
            "\u001b[?25l  Downloading https://files.pythonhosted.org/packages/43/f8/58106455dcc98ef602a959881c42a4814bab1bd1211d7d5e341d9b44b914/sportsreference-0.5.2-py3-none-any.whl (472kB)\n",
            "\u001b[K     |████████████████████████████████| 481kB 2.9MB/s \n",
            "\u001b[?25hRequirement already satisfied: requests>=2.18.4 in /usr/local/lib/python3.6/dist-packages (from sportsreference) (2.23.0)\n",
            "Requirement already satisfied: pandas>=0.24.1 in /usr/local/lib/python3.6/dist-packages (from sportsreference) (1.0.5)\n",
            "Collecting pyquery>=1.4.0\n",
            "  Downloading https://files.pythonhosted.org/packages/78/43/95d42e386c61cb639d1a0b94f0c0b9f0b7d6b981ad3c043a836c8b5bc68b/pyquery-1.4.1-py2.py3-none-any.whl\n",
            "Requirement already satisfied: chardet<4,>=3.0.2 in /usr/local/lib/python3.6/dist-packages (from requests>=2.18.4->sportsreference) (3.0.4)\n",
            "Requirement already satisfied: certifi>=2017.4.17 in /usr/local/lib/python3.6/dist-packages (from requests>=2.18.4->sportsreference) (2020.6.20)\n",
            "Requirement already satisfied: urllib3!=1.25.0,!=1.25.1,<1.26,>=1.21.1 in /usr/local/lib/python3.6/dist-packages (from requests>=2.18.4->sportsreference) (1.24.3)\n",
            "Requirement already satisfied: idna<3,>=2.5 in /usr/local/lib/python3.6/dist-packages (from requests>=2.18.4->sportsreference) (2.10)\n",
            "Requirement already satisfied: pytz>=2017.2 in /usr/local/lib/python3.6/dist-packages (from pandas>=0.24.1->sportsreference) (2018.9)\n",
            "Requirement already satisfied: python-dateutil>=2.6.1 in /usr/local/lib/python3.6/dist-packages (from pandas>=0.24.1->sportsreference) (2.8.1)\n",
            "Requirement already satisfied: numpy>=1.13.3 in /usr/local/lib/python3.6/dist-packages (from pandas>=0.24.1->sportsreference) (1.18.5)\n",
            "Collecting cssselect>0.7.9\n",
            "  Downloading https://files.pythonhosted.org/packages/3b/d4/3b5c17f00cce85b9a1e6f91096e1cc8e8ede2e1be8e96b87ce1ed09e92c5/cssselect-1.1.0-py2.py3-none-any.whl\n",
            "Requirement already satisfied: lxml>=2.1 in /usr/local/lib/python3.6/dist-packages (from pyquery>=1.4.0->sportsreference) (4.2.6)\n",
            "Requirement already satisfied: six>=1.5 in /usr/local/lib/python3.6/dist-packages (from python-dateutil>=2.6.1->pandas>=0.24.1->sportsreference) (1.15.0)\n",
            "Installing collected packages: cssselect, pyquery, sportsreference\n",
            "Successfully installed cssselect-1.1.0 pyquery-1.4.1 sportsreference-0.5.2\n"
          ],
          "name": "stdout"
        }
      ]
    },
    {
      "cell_type": "markdown",
      "metadata": {
        "id": "gc8UH5kOY5RA",
        "colab_type": "text"
      },
      "source": [
        "Imports"
      ]
    },
    {
      "cell_type": "code",
      "metadata": {
        "id": "04SjuINpY1lM",
        "colab_type": "code",
        "colab": {}
      },
      "source": [
        "import pandas as pd \n",
        "import numpy as np\n",
        "import sportsreference.nfl\n",
        "from sportsreference.nfl.teams import Teams\n",
        "from sportsreference.nfl.schedule import Schedule\n",
        "from sportsreference.nfl.boxscore import Boxscore"
      ],
      "execution_count": null,
      "outputs": []
    },
    {
      "cell_type": "markdown",
      "metadata": {
        "id": "dtMqcLP1ZRfN",
        "colab_type": "text"
      },
      "source": [
        "Get Data"
      ]
    },
    {
      "cell_type": "code",
      "metadata": {
        "id": "nD_sI1dsZPkY",
        "colab_type": "code",
        "colab": {
          "base_uri": "https://localhost:8080/",
          "height": 748
        },
        "outputId": "cd2f1424-88c9-4e49-8e98-d837a25b8c1b"
      },
      "source": [
        "## Initialize Data Frame\n",
        "columns = [\"Week\",\"AvgPointsScored\",\"AvgPassYards\",\"AvgRushYards\",\"AvgInterceptions\",\"AvgTimesSacked\",\"OppPointsAllowed\",\"OppPassYards\",\"OppRushYards\",\"OppInterceptions\",\"OppSacks\",\"Points\"]\n",
        "#columns = [\"Week\",\"AvgPointsScored\",\"AvgPassYards\",\"AvgRushYards\",\"AvgInterceptions\",\"AvgTimesSacked\",\"Points\"]\n",
        "df = pd.DataFrame(columns=columns)\n",
        "\n",
        "teams = Teams()\n",
        "counter = 0\n",
        "## Loop through each team\n",
        "for team in teams:\n",
        "  print(team.abbreviation)\n",
        "  schedule = Schedule(team.abbreviation)\n",
        "  ## Loop through each week \n",
        "  for game in schedule:\n",
        "    if (game.result is not None):\n",
        "      opposing_schedule = Schedule(game.opponent_abbr)\n",
        "      # Keep track of the opposing teams totals\n",
        "      opp_points_allowed = 0\n",
        "      opp_pass_yards = 0\n",
        "      opp_rush_yards = 0\n",
        "      opp_interceptions = 0\n",
        "      opp_sacks = 0\n",
        "      for opp_game in opposing_schedule:\n",
        "        opp_boxscore = Boxscore(opp_game.boxscore_index)\n",
        "        if (opp_game.week <= game.week):\n",
        "          if (game.opponent_abbr == opp_boxscore.winning_abbr):\n",
        "            if (opp_boxscore.winner == \"Home\"):\n",
        "              opp_points_allowed += opp_boxscore.away_points\n",
        "              opp_pass_yards += opp_boxscore.away_net_pass_yards\n",
        "              opp_rush_yards += opp_boxscore.away_rush_yards\n",
        "              opp_interceptions += opp_boxscore.away_interceptions\n",
        "              opp_sacks += opp_boxscore.away_times_sacked\n",
        "            else:\n",
        "              opp_points_allowed += opp_boxscore.home_points\n",
        "              opp_pass_yards += opp_boxscore.home_net_pass_yards\n",
        "              opp_rush_yards += opp_boxscore.home_rush_yards\n",
        "              opp_interceptions += opp_boxscore.home_interceptions\n",
        "              opp_sacks += opp_boxscore.home_times_sacked\n",
        "          else:\n",
        "            if (opp_boxscore.winner == \"Home\"):\n",
        "              opp_points_allowed += opp_boxscore.home_points\n",
        "              opp_pass_yards += opp_boxscore.home_net_pass_yards\n",
        "              opp_rush_yards += opp_boxscore.home_rush_yards\n",
        "              opp_interceptions += opp_boxscore.home_interceptions\n",
        "              opp_sacks += opp_boxscore.home_times_sacked\n",
        "            else:\n",
        "              opp_points_allowed += opp_boxscore.away_points\n",
        "              opp_pass_yards += opp_boxscore.away_net_pass_yards\n",
        "              opp_rush_yards += opp_boxscore.away_rush_yards\n",
        "              opp_interceptions += opp_boxscore.away_interceptions\n",
        "              opp_sacks += opp_boxscore.away_times_sacked\n",
        "          \n",
        "    \n",
        "      # if (game.week == 1):\n",
        "      # #   ## collect data\n",
        "      df.loc[counter]={\"Week\":game.week,\"AvgPointsScored\":game.points_scored,\"AvgPassYards\":game.pass_yards,\"AvgRushYards\":game.rush_yards,\"AvgInterceptions\":game.interceptions,\"AvgTimesSacked\":game.times_sacked,\"OppPointsAllowed\":(opp_points_allowed/game.week),\"OppPassYards\":(opp_pass_yards/game.week),\"OppRushYards\":(opp_rush_yards/game.week),\"OppInterceptions\":(opp_interceptions/game.week),\"OppSacks\":(opp_sacks/game.week),\"Points\":game.points_scored}\n",
        "      counter +=1\n",
        "      # elif (game.week == 17):\n",
        "      # #   ## collect data and use model to make prediction\n",
        "      # else:\n",
        "      # #   ##collect data and train model\n",
        "## split into x_train, x_test, y_train, y_test where tests are data for current week, train is data from past weeks. y is the points scored\n",
        "df.head()"
      ],
      "execution_count": null,
      "outputs": [
        {
          "output_type": "stream",
          "text": [
            "GNB\n",
            "SEA\n",
            "RAV\n",
            "RAI\n",
            "NOR\n",
            "MIN\n",
            "KAN\n",
            "CAR\n",
            "WAS\n",
            "JAX\n",
            "BUF\n",
            "CHI\n",
            "ATL\n",
            "CRD\n",
            "TAM\n",
            "DET\n",
            "NWE\n",
            "CLT\n",
            "SFO\n",
            "RAM\n",
            "HTX\n",
            "DAL\n",
            "NYJ\n",
            "PHI\n",
            "SDG\n",
            "CIN\n",
            "MIA\n",
            "CLE\n",
            "OTI\n",
            "PIT\n",
            "NYG\n",
            "DEN\n"
          ],
          "name": "stdout"
        },
        {
          "output_type": "execute_result",
          "data": {
            "text/html": [
              "<div>\n",
              "<style scoped>\n",
              "    .dataframe tbody tr th:only-of-type {\n",
              "        vertical-align: middle;\n",
              "    }\n",
              "\n",
              "    .dataframe tbody tr th {\n",
              "        vertical-align: top;\n",
              "    }\n",
              "\n",
              "    .dataframe thead th {\n",
              "        text-align: right;\n",
              "    }\n",
              "</style>\n",
              "<table border=\"1\" class=\"dataframe\">\n",
              "  <thead>\n",
              "    <tr style=\"text-align: right;\">\n",
              "      <th></th>\n",
              "      <th>Week</th>\n",
              "      <th>AvgPointsScored</th>\n",
              "      <th>AvgPassYards</th>\n",
              "      <th>AvgRushYards</th>\n",
              "      <th>AvgInterceptions</th>\n",
              "      <th>AvgTimesSacked</th>\n",
              "      <th>OppPointsAllowed</th>\n",
              "      <th>OppPassYards</th>\n",
              "      <th>OppRushYards</th>\n",
              "      <th>OppInterceptions</th>\n",
              "      <th>OppSacks</th>\n",
              "      <th>Points</th>\n",
              "    </tr>\n",
              "  </thead>\n",
              "  <tbody>\n",
              "    <tr>\n",
              "      <th>0</th>\n",
              "      <td>1.0</td>\n",
              "      <td>43.0</td>\n",
              "      <td>364.0</td>\n",
              "      <td>158.0</td>\n",
              "      <td>0.0</td>\n",
              "      <td>0.0</td>\n",
              "      <td>43.0</td>\n",
              "      <td>364.0</td>\n",
              "      <td>158.0</td>\n",
              "      <td>0.0</td>\n",
              "      <td>0.0</td>\n",
              "      <td>43.0</td>\n",
              "    </tr>\n",
              "    <tr>\n",
              "      <th>1</th>\n",
              "      <td>1.0</td>\n",
              "      <td>38.0</td>\n",
              "      <td>322.0</td>\n",
              "      <td>84.0</td>\n",
              "      <td>0.0</td>\n",
              "      <td>3.0</td>\n",
              "      <td>38.0</td>\n",
              "      <td>322.0</td>\n",
              "      <td>84.0</td>\n",
              "      <td>0.0</td>\n",
              "      <td>3.0</td>\n",
              "      <td>38.0</td>\n",
              "    </tr>\n",
              "    <tr>\n",
              "      <th>2</th>\n",
              "      <td>1.0</td>\n",
              "      <td>38.0</td>\n",
              "      <td>284.0</td>\n",
              "      <td>107.0</td>\n",
              "      <td>0.0</td>\n",
              "      <td>2.0</td>\n",
              "      <td>38.0</td>\n",
              "      <td>284.0</td>\n",
              "      <td>107.0</td>\n",
              "      <td>0.0</td>\n",
              "      <td>2.0</td>\n",
              "      <td>38.0</td>\n",
              "    </tr>\n",
              "    <tr>\n",
              "      <th>3</th>\n",
              "      <td>1.0</td>\n",
              "      <td>34.0</td>\n",
              "      <td>239.0</td>\n",
              "      <td>133.0</td>\n",
              "      <td>0.0</td>\n",
              "      <td>0.0</td>\n",
              "      <td>34.0</td>\n",
              "      <td>239.0</td>\n",
              "      <td>133.0</td>\n",
              "      <td>0.0</td>\n",
              "      <td>0.0</td>\n",
              "      <td>34.0</td>\n",
              "    </tr>\n",
              "    <tr>\n",
              "      <th>4</th>\n",
              "      <td>1.0</td>\n",
              "      <td>34.0</td>\n",
              "      <td>198.0</td>\n",
              "      <td>82.0</td>\n",
              "      <td>0.0</td>\n",
              "      <td>1.0</td>\n",
              "      <td>34.0</td>\n",
              "      <td>198.0</td>\n",
              "      <td>82.0</td>\n",
              "      <td>0.0</td>\n",
              "      <td>1.0</td>\n",
              "      <td>34.0</td>\n",
              "    </tr>\n",
              "  </tbody>\n",
              "</table>\n",
              "</div>"
            ],
            "text/plain": [
              "   Week  AvgPointsScored  AvgPassYards  ...  OppInterceptions  OppSacks  Points\n",
              "0   1.0             43.0         364.0  ...               0.0       0.0    43.0\n",
              "1   1.0             38.0         322.0  ...               0.0       3.0    38.0\n",
              "2   1.0             38.0         284.0  ...               0.0       2.0    38.0\n",
              "3   1.0             34.0         239.0  ...               0.0       0.0    34.0\n",
              "4   1.0             34.0         198.0  ...               0.0       1.0    34.0\n",
              "\n",
              "[5 rows x 12 columns]"
            ]
          },
          "metadata": {
            "tags": []
          },
          "execution_count": 32
        }
      ]
    },
    {
      "cell_type": "code",
      "metadata": {
        "id": "rVM4PSl5TXR1",
        "colab_type": "code",
        "colab": {}
      },
      "source": [
        "print(df)"
      ],
      "execution_count": null,
      "outputs": []
    }
  ]
}